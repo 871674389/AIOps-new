{
 "cells": [
  {
   "cell_type": "code",
   "execution_count": null,
   "id": "3a13c97c-21b9-4439-ba46-473cbc2eb0d2",
   "metadata": {
    "tags": []
   },
   "outputs": [],
   "source": [
    "# 下载demo不运行\n",
    "!git clone https://github.com/issaccv/aiops24-RAG-demo\n",
    "%cd aiops24-RAG-demo\n",
    "!bash run.sh"
   ]
  },
  {
   "cell_type": "code",
   "execution_count": null,
   "id": "de751396-c9a3-4f73-8af9-61d68d59a4e9",
   "metadata": {
    "tags": []
   },
   "outputs": [],
   "source": [
    "# 创建内核\n",
    "!python -m venv .mvenv\n",
    "!source .mvenv/bin/activate\n",
    "!pip install ipykernel\n",
    "!python -m ipykernel install --user --name=.mvenv --display-name \"Python (.mvenv)\""
   ]
  },
  {
   "cell_type": "code",
   "execution_count": null,
   "id": "91866302-4cfb-41f5-bc76-e59fd89234e0",
   "metadata": {
    "tags": []
   },
   "outputs": [],
   "source": [
    "# 切换内核，选择.venv虚拟环境\n",
    "# 检查当前所所在目录\n",
    "# import os\n",
    "# print(os.path.abspath('.'))\n",
    "# /mnt/workspace\n",
    "%cd aiops24-RAG-demo\n",
    "!pip install -r demo/requirements.txt"
   ]
  },
  {
   "cell_type": "code",
   "execution_count": null,
   "id": "84716639-b9f5-48a4-893a-a4e55f20564a",
   "metadata": {
    "tags": []
   },
   "outputs": [],
   "source": [
    "%cd demo\n",
    "!cp .env.example .env"
   ]
  },
  {
   "cell_type": "code",
   "execution_count": null,
   "id": "b273c2a2-5bcf-4d66-a7b2-1af4be06d253",
   "metadata": {
    "tags": []
   },
   "outputs": [],
   "source": [
    "# !python main.py"
   ]
  },
  {
   "cell_type": "code",
   "execution_count": null,
   "id": "a8772c92-061d-4eae-87bd-eaca15202c71",
   "metadata": {
    "tags": []
   },
   "outputs": [],
   "source": [
    "# 创建内核,llama-factory的torch版本与demo不一致\n",
    "!python -m venv .mvenv-4\n",
    "!source .mvenv-4/bin/activate\n",
    "!pip install ipykernel\n",
    "!python -m ipykernel install --user --name=.mvenv-4 --display-name \"Python (.mvenv-4)\""
   ]
  },
  {
   "cell_type": "code",
   "execution_count": null,
   "id": "befb709b-e139-467c-82cd-06e3660eb73c",
   "metadata": {
    "ExecutionIndicator": {
     "show": true
    },
    "tags": []
   },
   "outputs": [],
   "source": [
    "# 切换内核\n",
    "# import os\n",
    "# print(os.path.abspath('.'))\n",
    "# /mnt/workspace"
   ]
  },
  {
   "cell_type": "code",
   "execution_count": null,
   "id": "ef6d605e-565d-47dd-9324-4a580d61f354",
   "metadata": {
    "tags": []
   },
   "outputs": [],
   "source": [
    "# 下载qwen2\n",
    "%cd /mnt/workspace\n",
    "!git clone --depth 1 https://github.com/hiyouga/LLaMA-Factory.git"
   ]
  },
  {
   "cell_type": "code",
   "execution_count": null,
   "id": "23573e71-4c5d-44cf-9b67-905d6766393e",
   "metadata": {
    "tags": []
   },
   "outputs": [],
   "source": [
    "!pip list"
   ]
  },
  {
   "cell_type": "code",
   "execution_count": null,
   "id": "e568d7e9-ed3a-4c40-9a39-ab280a729625",
   "metadata": {
    "tags": []
   },
   "outputs": [],
   "source": [
    "!pip uninstall -y vllm\n",
    "!pip install llamafactory[metrics]==0.7.1"
   ]
  },
  {
   "cell_type": "code",
   "execution_count": null,
   "id": "b95821ee-a863-4c71-9ca6-740141f3ccad",
   "metadata": {
    "tags": []
   },
   "outputs": [],
   "source": [
    "!llamafactory-cli version"
   ]
  },
  {
   "cell_type": "code",
   "execution_count": null,
   "id": "9f55448f-1a3f-4e28-bb89-9e42ef440d90",
   "metadata": {
    "tags": []
   },
   "outputs": [],
   "source": [
    "%cd LLaMA-Factory"
   ]
  },
  {
   "cell_type": "code",
   "execution_count": null,
   "id": "bf069b90-2ab1-4799-8642-f295eeac70ff",
   "metadata": {
    "tags": []
   },
   "outputs": [],
   "source": [
    "!git clone https://www.modelscope.cn/qwen/Qwen2-7B-Instruct.git"
   ]
  },
  {
   "cell_type": "code",
   "execution_count": null,
   "id": "54aa8583-c655-4686-93ff-3ec91dd46863",
   "metadata": {
    "ExecutionIndicator": {
     "show": true
    },
    "tags": []
   },
   "outputs": [],
   "source": [
    "# 上传qwen2-dataset-all.json至LLaMA-Factory/data\n",
    "# 添加数据集信息至data/data_info.json文件\n",
    "# 修改LLaMA-Factory/examples/train_lora/llama3_lora_sft.yaml\n",
    "# model_name_or_path: Qwen2-7B-Instruct\n",
    "# dataset: identity,qwen2-dataset-all\n",
    "# template: qwen\n",
    "# output_dir: saves/Qwen2-7B-v1/lora/sft\n",
    "# 存在修改参数eval_strategy为evaluation_strategy的可能\n",
    "# 执行微调指令\n",
    "!llamafactory-cli train examples/train_lora/llama3_lora_sft.yaml"
   ]
  },
  {
   "cell_type": "code",
   "execution_count": null,
   "id": "bcf49f13-5bc8-47a0-8d6a-ff47defab1a9",
   "metadata": {
    "tags": []
   },
   "outputs": [],
   "source": [
    "# 修改LLaMA-Factory/examples/merge_lora/llama3_lora_sft.yaml\n",
    "# model_name_or_path: Qwen2-7B-Instruct\n",
    "# adapter_name_or_path: saves/Qwen2-7B-v1/lora/sft\n",
    "# template: qwen\n",
    "# export_dir: models/Qwen2-7B-v1\n",
    "# 执行merge指令\n",
    "!llamafactory-cli export examples/merge_lora/llama3_lora_sft.yaml"
   ]
  },
  {
   "cell_type": "code",
   "execution_count": null,
   "id": "ea1d1cb9-5203-4e02-be80-910fd117927b",
   "metadata": {
    "tags": []
   },
   "outputs": [],
   "source": [
    "# 修改LLaMA-Factory/examples/inference/llama3_lora_sft.yaml\n",
    "# model_name_or_path: Qwen2-7B-Instruct\n",
    "# adapter_name_or_path: saves/Qwen2-7B-v1/lora/sft\n",
    "# template: qwen\n",
    "# 执行inference指令\n",
    "# !llamafactory-cli chat examples/inference/llama3_lora_sft.yaml"
   ]
  },
  {
   "cell_type": "code",
   "execution_count": null,
   "id": "5b813c3f-5ec8-403c-b382-e5d49ce1b89b",
   "metadata": {},
   "outputs": [],
   "source": [
    "# 修改aiops24-RAG-demo/demo/main.py中的 model=\"qwen\"为 model=\"/mnt/workspace/LLaMA-Factory/saves/Qwen2-7B-v1/lora/sft\"\n",
    "# 切换内核.mvenv\n",
    "%cd aiops24-RAG-demo/demo\n",
    "!python main.py"
   ]
  }
 ],
 "metadata": {
  "kernelspec": {
   "display_name": "Python (.mvenv-4)",
   "language": "python",
   "name": ".mvenv-4"
  },
  "language_info": {
   "codemirror_mode": {
    "name": "ipython",
    "version": 3
   },
   "file_extension": ".py",
   "mimetype": "text/x-python",
   "name": "python",
   "nbconvert_exporter": "python",
   "pygments_lexer": "ipython3",
   "version": "3.10.13"
  }
 },
 "nbformat": 4,
 "nbformat_minor": 5
}
